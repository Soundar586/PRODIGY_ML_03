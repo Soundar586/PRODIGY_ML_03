{
 "cells": [
  {
   "cell_type": "code",
   "execution_count": 1,
   "id": "ae16e0a9-5db8-4543-9891-eeb5426190f8",
   "metadata": {},
   "outputs": [],
   "source": [
    "#import libraries and importin Svm\n",
    "import os\n",
    "import numpy as np\n",
    "import cv2\n",
    "import matplotlib.pyplot as plt\n",
    "import pickle\n",
    "import random\n",
    "from sklearn.model_selection import train_test_split\n",
    "from sklearn.svm import SVC"
   ]
  },
  {
   "cell_type": "code",
   "execution_count": 2,
   "id": "1d1f3d0e-9af8-4710-9af4-e558965c4a7e",
   "metadata": {},
   "outputs": [],
   "source": [
    "dir = 'C:\\projects\\Cats and Dogs\\dataset'"
   ]
  },
  {
   "cell_type": "code",
   "execution_count": 3,
   "id": "9a5ac9c6-6f25-4221-b8ef-8602a7c939e3",
   "metadata": {},
   "outputs": [
    {
     "name": "stdout",
     "output_type": "stream",
     "text": [
      "24946\n"
     ]
    }
   ],
   "source": [
    "#load the Datasets \n",
    "categories = ['Cat', 'Dog']\n",
    "\n",
    "data = []\n",
    "\n",
    "for category in categories:\n",
    "    path = os.path.join(dir,category)\n",
    "    label = categories.index(category)\n",
    "\n",
    "#reshaping the svm    \n",
    "    for img in os.listdir(path):\n",
    "        imgpath = os.path.join(path,img)\n",
    "        img = cv2.imread(imgpath,0)\n",
    "        try:\n",
    "            img = cv2.resize(img,(50,50))\n",
    "            image = np.array(img).flatten()\n",
    "\n",
    "            data.append([image,label])\n",
    "        except Exception as e:\n",
    "            pass\n",
    "#print the total count of the image         \n",
    "print(len(data)) "
   ]
  },
  {
   "cell_type": "code",
   "execution_count": 4,
   "id": "599b5fd7-73f8-4426-a5f1-7e6e46103973",
   "metadata": {},
   "outputs": [],
   "source": [
    "pick_in = open('data1.pickle','wb')\n",
    "pickle.dump(data,pick_in)\n",
    "pick_in.close()"
   ]
  },
  {
   "cell_type": "code",
   "execution_count": 5,
   "id": "da830754-8967-47e1-930b-57af8ea5bdd3",
   "metadata": {},
   "outputs": [],
   "source": [
    "pick_in = open('data1.pickle','rb')\n",
    "data = pickle.load(pick_in)\n",
    "pick_in.close()"
   ]
  },
  {
   "cell_type": "code",
   "execution_count": 10,
   "id": "e52675ef-a886-49e8-a29d-3a5e29227a33",
   "metadata": {},
   "outputs": [],
   "source": [
    "#suffle the data\n",
    "random.shuffle(data)\n",
    "features = []\n",
    "labels =[]\n",
    "\n",
    "for feature , label in data:\n",
    "    features.append(feature)\n",
    "    labels.append(label)\n",
    "    \n",
    "#train the model\n",
    "xtrain, xtest, ytrain, ytest = train_test_split(features, labels, test_size = 0.88)\n",
    "\n",
    "#import the model\n",
    "model = SVC (C=1, kernel ='poly',gamma = 'auto')\n",
    "model.fit(xtrain, ytrain)\n",
    "\n",
    "pick = open('model.sav','wb')\n",
    "pickle.dump(model,pick)\n",
    "pick.close()"
   ]
  },
  {
   "cell_type": "code",
   "execution_count": 11,
   "id": "d7b1496d-1bcb-44fc-869e-816fefe0acff",
   "metadata": {},
   "outputs": [
    {
     "name": "stdout",
     "output_type": "stream",
     "text": [
      "Accuracy:  0.5676217373479706\n",
      "prediction is :  Dog\n"
     ]
    },
    {
     "data": {
      "image/png": "[encoded data removed]",
      "text/plain": [
       "<Figure size 640x480 with 1 Axes>"
      ]
     },
     "metadata": {},
     "output_type": "display_data"
    }
   ],
   "source": [
    "prediction = model.predict(xtest)\n",
    "accuracy = model.score(xtest,ytest)\n",
    "\n",
    "categories = ['Cat', 'Dog']\n",
    "\n",
    "#show the accuracy\n",
    "print('Accuracy: ', accuracy)\n",
    "\n",
    "print('prediction is : ',categories[prediction[1]])\n",
    "\n",
    "mypet = xtest[2].reshape(50,50)\n",
    "plt.imshow(mypet, cmap='gray')\n",
    "plt.show()"
   ]
  },
  {
   "cell_type": "code",
   "execution_count": null,
   "id": "2d80080f-1a41-44f7-a1e5-72a2ede6b8a5",
   "metadata": {},
   "outputs": [],
   "source": []
  }
 ],
 "metadata": {
  "kernelspec": {
   "display_name": "Python 3 (ipykernel)",
   "language": "python",
   "name": "python3"
  },
  "language_info": {
   "codemirror_mode": {
    "name": "ipython",
    "version": 3
   },
   "file_extension": ".py",
   "mimetype": "text/x-python",
   "name": "python",
   "nbconvert_exporter": "python",
   "pygments_lexer": "ipython3",
   "version": "3.10.8"
  }
 },
 "nbformat": 4,
 "nbformat_minor": 5
}
